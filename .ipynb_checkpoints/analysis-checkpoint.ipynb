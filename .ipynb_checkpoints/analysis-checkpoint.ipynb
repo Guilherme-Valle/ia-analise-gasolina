{
 "cells": [
  {
   "cell_type": "code",
   "execution_count": null,
   "metadata": {},
   "outputs": [],
   "source": [
    "import matplotlib.pyplot as plt\n",
    "import pandas\n",
    "import numpy as np\n",
    "from sklearn.cluster import KMeans"
   ]
  },
  {
   "cell_type": "code",
   "execution_count": null,
   "metadata": {},
   "outputs": [],
   "source": [
    "combustiveis_2001_2012 = pandas.read_csv('combustivel-brasil-2001-2012.csv')"
   ]
  },
  {
   "cell_type": "code",
   "execution_count": null,
   "metadata": {},
   "outputs": [],
   "source": [
    "combustiveis_2001_2012"
   ]
  },
  {
   "cell_type": "code",
   "execution_count": null,
   "metadata": {},
   "outputs": [],
   "source": [
    "combustiveis_2013_2021 = pandas.read_csv('combustivel-brasil-2013-2021.csv')"
   ]
  },
  {
   "cell_type": "code",
   "execution_count": null,
   "metadata": {},
   "outputs": [],
   "source": [
    "combustiveis_2013_2021.rename(columns = {\"PREÇO MÉDIO REVENDA\": \"PRECO MÉDIO REVENDA\"},\n",
    "                                              inplace = True)"
   ]
  },
  {
   "cell_type": "code",
   "execution_count": null,
   "metadata": {},
   "outputs": [],
   "source": [
    "combustiveis_2013_2021"
   ]
  },
  {
   "cell_type": "code",
   "execution_count": null,
   "metadata": {},
   "outputs": [],
   "source": [
    "combustiveis_2001_2021 = pandas.concat([combustiveis_2001_2012, combustiveis_2013_2021], sort=False)"
   ]
  },
  {
   "cell_type": "code",
   "execution_count": null,
   "metadata": {},
   "outputs": [],
   "source": [
    "combustiveis_2001_2021"
   ]
  },
  {
   "cell_type": "code",
   "execution_count": null,
   "metadata": {},
   "outputs": [],
   "source": [
    "filtro_gasolina = combustiveis_2001_2021[\"PRODUTO\"]==\"GASOLINA COMUM\""
   ]
  },
  {
   "cell_type": "code",
   "execution_count": null,
   "metadata": {},
   "outputs": [],
   "source": [
    "combustiveis_2001_2021 = combustiveis_2001_2021[filtro_gasolina]"
   ]
  },
  {
   "cell_type": "code",
   "execution_count": null,
   "metadata": {},
   "outputs": [],
   "source": [
    "preco_gasolina_2001_2021 = combustiveis_2001_2021[[\"MÊS\", \"PRECO MÉDIO REVENDA\"]]"
   ]
  },
  {
   "cell_type": "code",
   "execution_count": null,
   "metadata": {},
   "outputs": [],
   "source": [
    "preco_gasolina_2001_2021.reset_index(drop=True, inplace=True)"
   ]
  },
  {
   "cell_type": "code",
   "execution_count": null,
   "metadata": {},
   "outputs": [],
   "source": [
    "preco_gasolina_2001_2021"
   ]
  },
  {
   "cell_type": "code",
   "execution_count": null,
   "metadata": {},
   "outputs": [],
   "source": [
    "petroleo_brent_2001_2021 = pandas.read_csv('petroleo-brent-2001-2021.csv')"
   ]
  },
  {
   "cell_type": "code",
   "execution_count": null,
   "metadata": {},
   "outputs": [],
   "source": [
    "petroleo_brent_2001_2021 = petroleo_brent_2001_2021.iloc[::-1]"
   ]
  },
  {
   "cell_type": "code",
   "execution_count": null,
   "metadata": {},
   "outputs": [],
   "source": [
    "petroleo_brent_2001_2021.reset_index(drop=True, inplace=True)"
   ]
  },
  {
   "cell_type": "code",
   "execution_count": null,
   "metadata": {},
   "outputs": [],
   "source": [
    "petroleo_brent_2001_2021 = petroleo_brent_2001_2021[[\"Data\", \"Último\"]]"
   ]
  },
  {
   "cell_type": "code",
   "execution_count": null,
   "metadata": {},
   "outputs": [],
   "source": [
    "petroleo_brent_2001_2021"
   ]
  },
  {
   "cell_type": "code",
   "execution_count": null,
   "metadata": {},
   "outputs": [],
   "source": [
    "petroleo_brent_2001_2021 = petroleo_brent_2001_2021[:-1]  "
   ]
  },
  {
   "cell_type": "code",
   "execution_count": null,
   "metadata": {},
   "outputs": [],
   "source": [
    "petroleo_brent_2001_2021"
   ]
  },
  {
   "cell_type": "code",
   "execution_count": null,
   "metadata": {},
   "outputs": [],
   "source": [
    "petroleo_brent_2001_2021[\"Último\"] = petroleo_brent_2001_2021[\"Último\"].str.replace(',','.')"
   ]
  },
  {
   "cell_type": "code",
   "execution_count": null,
   "metadata": {},
   "outputs": [],
   "source": [
    "petroleo_brent_2001_2021[\"Último\"] = pandas.to_numeric(petroleo_brent_2001_2021[\"Último\"], downcast=\"float\")\n"
   ]
  },
  {
   "cell_type": "code",
   "execution_count": null,
   "metadata": {},
   "outputs": [],
   "source": [
    "petroleo_brent_2001_2021"
   ]
  },
  {
   "cell_type": "code",
   "execution_count": null,
   "metadata": {},
   "outputs": [],
   "source": [
    "usd_brl_2001_2021 = pandas.read_csv('usd-brl-2001-2021.csv')"
   ]
  },
  {
   "cell_type": "code",
   "execution_count": null,
   "metadata": {},
   "outputs": [],
   "source": [
    "usd_brl_2001_2021"
   ]
  },
  {
   "cell_type": "code",
   "execution_count": null,
   "metadata": {},
   "outputs": [],
   "source": [
    "usd_brl_2001_2021 = usd_brl_2001_2021.iloc[::-1]"
   ]
  },
  {
   "cell_type": "code",
   "execution_count": null,
   "metadata": {},
   "outputs": [],
   "source": [
    "usd_brl_2001_2021 = usd_brl_2001_2021.iloc[2:]"
   ]
  },
  {
   "cell_type": "code",
   "execution_count": null,
   "metadata": {},
   "outputs": [],
   "source": [
    "usd_brl_2001_2021"
   ]
  },
  {
   "cell_type": "code",
   "execution_count": null,
   "metadata": {},
   "outputs": [],
   "source": [
    "usd_brl_2001_2021 = usd_brl_2001_2021.iloc[:-1]"
   ]
  },
  {
   "cell_type": "code",
   "execution_count": null,
   "metadata": {},
   "outputs": [],
   "source": [
    "usd_brl_2001_2021 = usd_brl_2001_2021[[\"Data\", \"Último\"]]"
   ]
  },
  {
   "cell_type": "code",
   "execution_count": null,
   "metadata": {},
   "outputs": [],
   "source": [
    "usd_brl_2001_2021"
   ]
  },
  {
   "cell_type": "code",
   "execution_count": null,
   "metadata": {},
   "outputs": [],
   "source": [
    "usd_brl_2001_2021.reset_index(drop=True, inplace=True)"
   ]
  },
  {
   "cell_type": "code",
   "execution_count": null,
   "metadata": {},
   "outputs": [],
   "source": [
    "usd_brl_2001_2021"
   ]
  },
  {
   "cell_type": "code",
   "execution_count": null,
   "metadata": {},
   "outputs": [],
   "source": [
    "usd_brl_2001_2021[\"Último\"] = usd_brl_2001_2021[\"Último\"].str.replace(',','.')"
   ]
  },
  {
   "cell_type": "code",
   "execution_count": null,
   "metadata": {},
   "outputs": [],
   "source": [
    "usd_brl_2001_2021[\"Último\"] = pandas.to_numeric(usd_brl_2001_2021[\"Último\"], downcast=\"float\")"
   ]
  },
  {
   "cell_type": "code",
   "execution_count": null,
   "metadata": {},
   "outputs": [],
   "source": [
    "usd_brl_2001_2021"
   ]
  },
  {
   "cell_type": "code",
   "execution_count": null,
   "metadata": {},
   "outputs": [],
   "source": [
    "preco_gasolina_2001_2021"
   ]
  },
  {
   "cell_type": "code",
   "execution_count": null,
   "metadata": {},
   "outputs": [],
   "source": [
    "preco_gasolina_2001_2021[\"Valor USD\"] = preco_gasolina_2001_2021[\"PRECO MÉDIO REVENDA\"].astype(float) * usd_brl_2001_2021[\"Último\"].astype(float)"
   ]
  },
  {
   "cell_type": "code",
   "execution_count": null,
   "metadata": {},
   "outputs": [],
   "source": [
    "preco_gasolina_2001_2021"
   ]
  },
  {
   "cell_type": "code",
   "execution_count": null,
   "metadata": {},
   "outputs": [],
   "source": [
    "preco_gasolina_2001_2021.plot(\"MÊS\", \"Valor USD\")"
   ]
  },
  {
   "cell_type": "code",
   "execution_count": null,
   "metadata": {},
   "outputs": [],
   "source": [
    "petroleo_brent_2001_2021.plot(\"Data\", \"Último\")"
   ]
  },
  {
   "cell_type": "code",
   "execution_count": null,
   "metadata": {},
   "outputs": [],
   "source": [
    "petroleo_brent_2001_2021"
   ]
  },
  {
   "cell_type": "code",
   "execution_count": null,
   "metadata": {},
   "outputs": [],
   "source": [
    "preco_gasolina_2001_2021.head()"
   ]
  },
  {
   "cell_type": "code",
   "execution_count": null,
   "metadata": {},
   "outputs": [],
   "source": [
    "preco_gasolina_2001_2021[\"ANO\"] = preco_gasolina_2001_2021[\"MÊS\"].str.replace('^\\w+/', '20', regex=True)\n",
    "preco_gasolina_2001_2021.head()"
   ]
  },
  {
   "cell_type": "code",
   "execution_count": null,
   "metadata": {},
   "outputs": [],
   "source": [
    "width = 20\n",
    "height = 10\n",
    "width_height = (width, height)\n",
    "plt.figure(figsize=width_height)\n",
    "\n",
    "plt.plot(preco_gasolina_2001_2021[\"MÊS\"], preco_gasolina_2001_2021[\"Valor USD\"],  color='g', label='Gasolina')\n",
    "plt.plot(preco_gasolina_2001_2021[\"MÊS\"], petroleo_brent_2001_2021[\"Último\"], color='r', label='Petróleo')\n",
    "\n",
    "\n",
    "plt.xticks(np.linspace(0, 244, 21), labels=preco_gasolina_2001_2021.loc[::12, \"ANO\"])\n",
    "\n",
    "\n",
    "plt.xlabel(\"Tempo\")\n",
    "plt.ylabel(\"Valor em USD\")\n",
    "plt.title(\"Relação preço da gasolina brasileira x Barril de petróleo\")\n",
    "\n",
    "plt.show()"
   ]
  },
  {
   "cell_type": "code",
   "execution_count": null,
   "metadata": {},
   "outputs": [],
   "source": [
    "serie_historica_completa = pandas.DataFrame(data={\"Petroleo\": petroleo_brent_2001_2021[\"Último\"], \n",
    "                                          \"Gasolina\": preco_gasolina_2001_2021[\"Valor USD\"]})\n",
    "kmeans = KMeans(n_clusters=2).fit(serie_historica_completa)\n",
    "centroids = kmeans.cluster_centers_\n"
   ]
  },
  {
   "cell_type": "code",
   "execution_count": null,
   "metadata": {},
   "outputs": [],
   "source": [
    "\n",
    "plt.scatter(serie_historica_completa['Petroleo'], serie_historica_completa['Gasolina'],\n",
    "            c= kmeans.labels_.astype(float), s=100, alpha=0.5)\n",
    "plt.scatter(centroids[:, 0], centroids[:, 1], c='red', s=100)\n",
    "plt.show()"
   ]
  },
  {
   "cell_type": "code",
   "execution_count": null,
   "metadata": {},
   "outputs": [],
   "source": [
    "preco_gasolina_2001_2021.head()"
   ]
  },
  {
   "cell_type": "code",
   "execution_count": null,
   "metadata": {},
   "outputs": [],
   "source": [
    "preco_gasolina_antes_ppi = preco_gasolina_2001_2021.iloc[:-61]\n",
    "preco_gasolina_antes_ppi.reset_index(drop=True, inplace=True)\n",
    "\n",
    "barril_petroleo_antes_ppi = petroleo_brent_2001_2021.iloc[:-61]\n",
    "barril_petroleo_antes_ppi.reset_index(drop=True, inplace=True)\n"
   ]
  },
  {
   "cell_type": "code",
   "execution_count": null,
   "metadata": {},
   "outputs": [],
   "source": [
    "preco_gasolina_antes_ppi"
   ]
  },
  {
   "cell_type": "code",
   "execution_count": null,
   "metadata": {},
   "outputs": [],
   "source": [
    "width = 20\n",
    "height = 10\n",
    "width_height = (width, height)\n",
    "plt.figure(figsize=width_height)\n",
    "\n",
    "plt.plot(preco_gasolina_antes_ppi[\"MÊS\"], preco_gasolina_antes_ppi[\"Valor USD\"],  color='g', label='Gasolina')\n",
    "plt.plot(preco_gasolina_antes_ppi[\"MÊS\"], barril_petroleo_antes_ppi[\"Último\"], color='r', label='Petróleo')\n",
    "\n",
    "\n",
    "plt.xticks(np.linspace(0, 183, 16), labels=preco_gasolina_antes_ppi.loc[::12, \"ANO\"])\n",
    "\n",
    "\n",
    "plt.xlabel(\"Tempo\")\n",
    "plt.ylabel(\"Valor em USD\")\n",
    "plt.title(\"Relação preço da gasolina brasileira x Barril de petróleo\")\n",
    "\n",
    "plt.show()"
   ]
  },
  {
   "cell_type": "code",
   "execution_count": null,
   "metadata": {},
   "outputs": [],
   "source": [
    "serie_historica_antes_ppi = pandas.DataFrame(data={\"Petroleo\": barril_petroleo_antes_ppi[\"Último\"], \n",
    "                                          \"Gasolina\": preco_gasolina_antes_ppi[\"Valor USD\"]})\n",
    "kmeans = KMeans(n_clusters=2).fit(serie_historica_antes_ppi)\n",
    "centroids = kmeans.cluster_centers_\n"
   ]
  },
  {
   "cell_type": "code",
   "execution_count": null,
   "metadata": {},
   "outputs": [],
   "source": [
    "\n",
    "plt.scatter(serie_historica_antes_ppi['Petroleo'], serie_historica_antes_ppi['Gasolina'],\n",
    "            c= kmeans.labels_.astype(float), s=50, alpha=0.5)\n",
    "plt.scatter(centroids[:, 0], centroids[:, 1], c='red', s=50)\n",
    "plt.show()"
   ]
  },
  {
   "cell_type": "code",
   "execution_count": null,
   "metadata": {},
   "outputs": [],
   "source": [
    "preco_gasolina_depois_ppi = preco_gasolina_2001_2021.iloc[183:]\n",
    "preco_gasolina_depois_ppi.reset_index(drop=True, inplace=True)\n",
    "\n",
    "barril_petroleo_depois_ppi = petroleo_brent_2001_2021.iloc[183:]\n",
    "barril_petroleo_depois_ppi.reset_index(drop=True, inplace=True)\n"
   ]
  },
  {
   "cell_type": "code",
   "execution_count": null,
   "metadata": {},
   "outputs": [],
   "source": [
    "width = 20\n",
    "height = 10\n",
    "width_height = (width, height)\n",
    "plt.figure(figsize=width_height)\n",
    "\n",
    "plt.plot(preco_gasolina_depois_ppi[\"MÊS\"], preco_gasolina_depois_ppi[\"Valor USD\"],  color='g', label='Gasolina')\n",
    "plt.plot(preco_gasolina_depois_ppi[\"MÊS\"], barril_petroleo_depois_ppi[\"Último\"], color='r', label='Petróleo')\n",
    "\n",
    "\n",
    "plt.xticks(np.linspace(0, 61, 5), labels=preco_gasolina_depois_ppi.loc[::12, \"ANO\"])\n",
    "\n",
    "\n",
    "plt.xlabel(\"Tempo\")\n",
    "plt.ylabel(\"Valor em USD\")\n",
    "plt.title(\"Relação preço da gasolina brasileira x Barril de petróleo\")\n",
    "\n",
    "plt.show()"
   ]
  },
  {
   "cell_type": "code",
   "execution_count": null,
   "metadata": {},
   "outputs": [],
   "source": [
    "serie_historica_depois_ppi = pandas.DataFrame(data={\"Petroleo\": barril_petroleo_depois_ppi[\"Último\"], \n",
    "                                          \"Gasolina\": preco_gasolina_depois_ppi[\"Valor USD\"]})\n",
    "kmeans = KMeans(n_clusters=2).fit(serie_historica_depois_ppi)\n",
    "centroids = kmeans.cluster_centers_\n"
   ]
  },
  {
   "cell_type": "code",
   "execution_count": null,
   "metadata": {},
   "outputs": [],
   "source": [
    "plt.scatter(serie_historica_depois_ppi['Petroleo'], serie_historica_depois_ppi['Gasolina'],\n",
    "            c= kmeans.labels_.astype(float), s=100, alpha=0.5)\n",
    "plt.scatter(centroids[:, 0], centroids[:, 1], c='red', s=100)\n",
    "plt.show()"
   ]
  },
  {
   "cell_type": "code",
   "execution_count": null,
   "metadata": {},
   "outputs": [],
   "source": []
  }
 ],
 "metadata": {
  "kernelspec": {
   "display_name": "Python 3",
   "language": "python",
   "name": "python3"
  },
  "language_info": {
   "codemirror_mode": {
    "name": "ipython",
    "version": 3
   },
   "file_extension": ".py",
   "mimetype": "text/x-python",
   "name": "python",
   "nbconvert_exporter": "python",
   "pygments_lexer": "ipython3",
   "version": "3.5.2"
  }
 },
 "nbformat": 4,
 "nbformat_minor": 2
}
